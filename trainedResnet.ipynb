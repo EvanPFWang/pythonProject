{
 "cells": [
  {
   "cell_type": "markdown",
   "metadata": {},
   "source": [
    "# CSCI-UA 0480-042 Computer Vision\n",
    "## Homework 2"
   ]
  },
  {
   "cell_type": "markdown",
   "metadata": {},
   "source": [
    "Enter your name and NetID below.\n",
    "\n",
    "#### Name:\n",
    "#### NetID: "
   ]
  },
  {
   "cell_type": "markdown",
   "metadata": {},
   "source": [
    "The main goals of this assignment include:\n",
    "\n",
    "1. Giving an introduction to PyTorch\n",
    "2. Loading images using PyTorch DataLoader\n",
    "3. Performing Inference on a Pretrained Resnet-18 model using a small dataset\n",
    "4. Doing some analysis on the classification results\n",
    "5. Reconstructing a pytorch model from onnx file\n",
    "6. Build synthetic dataset - Synthesize face mask data from a dataset\n",
    "\n",
    "There are (**10 questions in total**). Please give your answers in the space provided. In most of the questions, you will be asked to complete a code snippet. You can quickly navigate to those questions by searching (Ctrl/Cmd-F) for `TODO:`. For questions requiring a markdown answer, navigate to them by searching `Answer`.\n",
    "\n",
    "In this homework, we'll be covering few basic PyTorch concepts. More will be covered in the next homework."
   ]
  },
  {
   "cell_type": "markdown",
   "metadata": {},
   "source": [
    "# 1. Introduction to PyTorch"
   ]
  },
  {
   "cell_type": "markdown",
   "metadata": {},
   "source": [
    "[PyTorch](https://pytorch.org/) and [TensorFlow](https://www.tensorflow.org/) are open source machine learning frameworks that are used to develop and train neural network models. PyTorch is primarily developed by Facebook AI Research lab (FAIR), whereas TensorFlow is developed by the Google Brain team. You can read more about the differences between PyTorch and Tensorflow from these 2 articles:\n",
    "\n",
    "1. [Real Python blog post by Ray Johns, \"PyTorch vs TensorFlow for Your Python Deep Learning Project\"](https://realpython.com/pytorch-vs-tensorflow/)\n",
    "\n",
    "2. [Towards Data Science article by Kirill Dubovikov, \"PyTorch vs TensorFlow — spotting the difference\"](https://towardsdatascience.com/pytorch-vs-tensorflow-spotting-the-difference-25c75777377b) \n",
    "\n",
    "In this course, we will use PyTorch.\n",
    "\n",
    "A neural network consists of several layers. Each layer takes an input array, computes a linear product, applies some non linear activation function to give an output. These inputs and outputs are just n-dimensional arrays, and are called as `Tensor`s in PyTorch. These are similar to what we have in `NumPy` except that `Tensor`s can run on GPUs. PyTorch provides several functions for operating on these `Tensor`s. In the background, during forward and backward propagation, `Tensor`s can keep track of the computational graph and its weights' gradients. "
   ]
  },
  {
   "cell_type": "markdown",
   "metadata": {},
   "source": [
    "We'll now show how one can build a neural network in PyTorch using a simple example. \\[Credits: [Deep Learning with PyTorch: A 60 Minute Blitz by Soumith Chintala](https://pytorch.org/tutorials/beginner/blitz/neural_networks_tutorial.html#neural-networks)\\]\n",
    "\n",
    "Consider this network for classifying digit images:\n",
    "\n",
    "![Neural Network Architecture for classifying digit images](./mnist.png)\n",
    "\n",
    "This network can be built in PyTorch using the `torch.nn` package. `torch.nn` implements various neural network layers (full-connected, convolution, pooling, etc.), and activation functions (softmax, sigmoid, etc.)."
   ]
  },
  {
   "cell_type": "code",
   "execution_count": 8,
   "metadata": {},
   "outputs": [],
   "source": [
    "import torch\n",
    "import torch.nn as nn\n",
    "import torch.nn.functional as F\n",
    "\n",
    "# nn.Module is a container that's used as the base class for\n",
    "# building any network. It has built-in methods for loading parameters\n",
    "# from a pretrained network, exporting weights from a network, moving\n",
    "# the model from CPU to GPU, etc.\n",
    "\n",
    "class Net(nn.Module):\n",
    "\n",
    "    def __init__(self):\n",
    "        super(Net, self).__init__()\n",
    "        # Docs: \n",
    "        # https://pytorch.org/docs/stable/generated/torch.nn.Conv2d.html#torch.nn.Conv2d\n",
    "        # https://pytorch.org/docs/stable/generated/torch.nn.Linear.html#torch.nn.Linear\n",
    "        \n",
    "        # 1 input image channel, 6 output channels, 3x3 square convolution\n",
    "        # kernel\n",
    "        self.conv1 = nn.Conv2d(1, 6, 3)\n",
    "        self.conv2 = nn.Conv2d(6, 16, 3)\n",
    "\n",
    "        # an affine operation: y = Wx + b\n",
    "        self.fc1 = nn.Linear(16 * 6 * 6, 120)  # 6*6 from image dimension\n",
    "        self.fc2 = nn.Linear(120, 84)\n",
    "        self.fc3 = nn.Linear(84, 10)\n",
    "\n",
    "    def forward(self, x):\n",
    "        # Docs:\n",
    "        # https://pytorch.org/docs/stable/nn.functional.html#max-pool2d\n",
    "        # https://pytorch.org/docs/stable/tensor_view.html#tensor-view-doc\n",
    "        # https://pytorch.org/docs/stable/nn.functional.html#relu\n",
    "        \n",
    "        # Max pooling over a (2, 2) window\n",
    "        x = F.max_pool2d(F.relu(self.conv1(x)), (2, 2))\n",
    "        # If the size is a square you can only specify a single number\n",
    "        x = F.max_pool2d(F.relu(self.conv2(x)), 2)\n",
    "        x = x.view(-1, self.num_flat_features(x))\n",
    "        x = F.relu(self.fc1(x))\n",
    "        x = F.relu(self.fc2(x))\n",
    "        x = self.fc3(x)\n",
    "        return x\n",
    "\n",
    "    def num_flat_features(self, x):\n",
    "        size = x.size()[1:]  # all dimensions except the batch dimension\n",
    "        num_features = 1\n",
    "        for s in size:\n",
    "            num_features *= s\n",
    "        return num_features"
   ]
  },
  {
   "cell_type": "code",
   "execution_count": 9,
   "metadata": {},
   "outputs": [],
   "source": [
    "import torch\n",
    "import torch.nn as nn\n",
    "import torch.nn.functional as F\n",
    "\n",
    "class custNet(nn.Module):\n",
    "    def __init__(self):\n",
    "        super(custNet, self).__init__()\n",
    "        \n",
    "        self.conv1 = nn.conv2d(1,6,3)\n",
    "        self.conv2 = nn.conv2d(6,16,3)"
   ]
  },
  {
   "cell_type": "markdown",
   "metadata": {},
   "source": [
    "`nn.Module` subclass requires us to fill in 3 methods:\n",
    "\n",
    "1. `__init__`: Calls the base constructor, and instantiates all the network layers (ones that have trainable parameters).\n",
    "2. `forward`: Defines the computation flow for forward propagation/inference by specifying a chain of operations. Given an input Tensor `x`, it computes output from one layer, feeds it to the next, and so on, till the final output \\[i.e. the digit class (0-9) the image belongs to\\] is computed. \n",
    "3. `num_flat_features`: Just a helper method used by `forward()`. This method does some shape calculation on the output from the 2nd `max_pool2d` layer, which is then used to generate a view from the `max_pool2d` layer's output. Views are used to reshape an existing Tensor without creating a new data copy, thus allowing us to do operations on Tensors faster.\n",
    "\n",
    "You can read more from [this PyTorch tutorial on Neural Networks](https://pytorch.org/tutorials/beginner/blitz/neural_networks_tutorial.html). First 2 sections (_Neural Networks_ and _Define the network_) are enough. We will not cover backprop/autograd in this homework -- that'll be discussed in the next homework."
   ]
  },
  {
   "cell_type": "markdown",
   "metadata": {},
   "source": [
    "With the network class defined, let's instantiate the network and print the layers inside it."
   ]
  },
  {
   "cell_type": "code",
   "execution_count": 10,
   "metadata": {},
   "outputs": [
    {
     "name": "stdout",
     "output_type": "stream",
     "text": [
      "Net(\n",
      "  (conv1): Conv2d(1, 6, kernel_size=(3, 3), stride=(1, 1))\n",
      "  (conv2): Conv2d(6, 16, kernel_size=(3, 3), stride=(1, 1))\n",
      "  (fc1): Linear(in_features=576, out_features=120, bias=True)\n",
      "  (fc2): Linear(in_features=120, out_features=84, bias=True)\n",
      "  (fc3): Linear(in_features=84, out_features=10, bias=True)\n",
      ")\n"
     ]
    }
   ],
   "source": [
    "net = Net()\n",
    "print(net)"
   ]
  },
  {
   "cell_type": "markdown",
   "metadata": {},
   "source": [
    "# 2. Loading images using Dataloaders"
   ]
  },
  {
   "cell_type": "markdown",
   "metadata": {},
   "source": [
    "As you've read in the above PyTorch tutorial, we can compute the output of a network on an image by calling `net()` on its tensor. This will return an output `Tensor`, with one value for each of the 10 classes. The network's predicted label for this image would be the label corresponding to the index with the highest value. \n",
    "\n",
    "Consider this example below. An image of size \\[1, 32, 32\\] is randomly generated and is fed into the network to get its label. The output is a tensor containing 10 `float` values. "
   ]
  },
  {
   "cell_type": "code",
   "execution_count": 11,
   "metadata": {},
   "outputs": [
    {
     "name": "stdout",
     "output_type": "stream",
     "text": [
      "tensor([[-0.0421, -0.0356,  0.0008, -0.0481,  0.0349,  0.0737,  0.0238,  0.0941,\n",
      "         -0.1153, -0.0117]], grad_fn=<AddmmBackward0>)\n"
     ]
    }
   ],
   "source": [
    "# Use a random 32x32 input\n",
    "# 1st dimension = 1 refers to batch size = 1 (only one example/image in this batch of examples)\n",
    "# 2nd dimension = 1 refers to the number of input channels = 1 (this is a BW image)\n",
    "input_tensor = torch.randn(1, 1, 32, 32)\n",
    "\n",
    "# Do inference on this example\n",
    "output_tensor = net(input_tensor)\n",
    "print(output_tensor)"
   ]
  },
  {
   "cell_type": "code",
   "execution_count": 12,
   "metadata": {},
   "outputs": [
    {
     "name": "stdout",
     "output_type": "stream",
     "text": [
      "The predicted class index of the random image is 7\n"
     ]
    }
   ],
   "source": [
    "print(\"The predicted class index of the random image is\", output_tensor.argmax().numpy())\n",
    "\n",
    "# argmax -> returns the index of the maximum value in the output_tensor\n",
    "# numpy -> converts a PyTorch Tensor into a Numpy array"
   ]
  },
  {
   "cell_type": "markdown",
   "metadata": {},
   "source": [
    "However, this approach (of calling the network on the input tensor to get its output) doesn't scale well. Typically, during the training phase, one would shuffle all the images in a dataset, load a batch of images from the shuffle, preprocess all the images in that batch (by applying some transformations such as random cropping, rescaling the image, etc.), and then provide the resulting image tensor to the model. If we simply do all these operations by iterating over the dataset using a `for` loop, these operations can turn out to be inefficient, especially when working on large datasets. For every batch, we have to generate the input tensor, and only after this step is complete, the network will be able to compute the output on this tensor.\n",
    "\n",
    "To avoid this problem, we use a PyTorch utility called `DataLoader`, which is capable of performing all the above operations using `multiprocessing` workers (i.e. multiple threads). By delegating these tasks to separate workers,  these workers can fetch the next batch while training on the previous batch is still in progress, thereby reducing the batch generation bottleneck. In other words, the training process doesn't need to wait for the worker threads to fetch the batch for training. Furthermore, this is necessary because loading all the images in a dataset into memory and then processing them may not always be feasible because of memory constraints.\n",
    "\n",
    "`DataLoader` takes as input a `Dataset` object, which is a PyTorch abstract class for holding and operating on a dataset. This also provides a homogenous way of working with different datasets.\n",
    "\n",
    "[`torchvision.datasets`](https://pytorch.org/vision/0.8/datasets.html#) package provides some commonly used CV-related datasets such as [`MNIST`](http://yann.lecun.com/exdb/mnist/), [`CIFAR10`](https://www.cs.toronto.edu/~kriz/cifar.html), [`Places365`](http://places2.csail.mit.edu/index.html), etc. \n",
    "\n",
    "Using `Dataset` and `DataLoader`, here's how the dataloading phase in a PyTorch program works:"
   ]
  },
  {
   "cell_type": "code",
   "execution_count": 13,
   "metadata": {},
   "outputs": [
    {
     "name": "stdout",
     "output_type": "stream",
     "text": [
      "Batch Idx 0 ; Input size torch.Size([16, 1, 28, 28]) ; Target size torch.Size([16])\n",
      "Batch Idx 1 ; Input size torch.Size([16, 1, 28, 28]) ; Target size torch.Size([16])\n",
      "Batch Idx 2 ; Input size torch.Size([16, 1, 28, 28]) ; Target size torch.Size([16])\n",
      "Batch Idx 3 ; Input size torch.Size([16, 1, 28, 28]) ; Target size torch.Size([16])\n"
     ]
    }
   ],
   "source": [
    "from torchvision import datasets, transforms\n",
    "from torch.utils.data import DataLoader, Subset\n",
    "\n",
    "# Transforms refer to a set of operations one would apply to each \n",
    "# image before sending it to the network. For example, all images \n",
    "# in the dataset may not be of the same size, in which case, we could \n",
    "# use a transform to scale the image to a given size. \n",
    "# PyTorch provides a variety of transforms:\n",
    "# https://pytorch.org/docs/stable/torchvision/transforms.html\n",
    "transform = transforms.Compose([\n",
    "    transforms.ToTensor(), # first, convert image to PyTorch tensor\n",
    "    transforms.Normalize((0.1307,), (0.3081,)) # normalize inputs\n",
    "])\n",
    "\n",
    "# We're telling MNIST dataset is in the folder \"./mnist\"\n",
    "# If it doesn't exist in the folder, we're allowing the package \n",
    "# to download it (by setting download=True)\n",
    "mnist = datasets.MNIST('./mnist', download=True, transform=transform)\n",
    "\n",
    "# We don't want to use all the 60000 training images in MNIST.\n",
    "# Instead we'll just use a subset of the training set (64 images)\n",
    "# to make the computation faster\n",
    "mnist = Subset(mnist, range(64))\n",
    "\n",
    "# DataLoader requires a Dataset object.\n",
    "# Each call to dataloader will return a batch of 16 images\n",
    "# Batches are generated after shuffling the dataset\n",
    "dataloader = DataLoader(mnist, batch_size=16, shuffle=True)\n",
    "\n",
    "# Typically one would want to train using a GPU.\n",
    "# To be able to do that, torch needs to locate/access the GPU.\n",
    "# cuda = torch.device(\"cuda\") # use \"cuda:0\", \"cuda:1\" instead to use the first and second GPU respectively\n",
    "\n",
    "for batch_idx, (inputs, targets) in enumerate(dataloader):\n",
    "    # To move the tensors to the GPU device, one would do\n",
    "    # inputs = inputs.to(cuda)\n",
    "    # targets = targets.to(cuda)\n",
    "    # However, we currently don't have access to a\n",
    "    # GPU, so leave the above 2 lines commented.\n",
    "    print(\"Batch Idx\", batch_idx, \"; Input size\", inputs.shape, \"; Target size\", targets.shape)\n",
    "    \n",
    "    # Forward propagation logic sits here"
   ]
  },
  {
   "cell_type": "markdown",
   "metadata": {},
   "source": [
    "Each batch has 16 images as we've specified in the `DataLoader`. Each target has 16 values, where each value is the index of the true label the image belongs to. The 2nd dimension in the `inputs` tensor refers to the number of input channels, which is 1 in this case, because MNIST contains BW images. 3rd and 4th dimension refer to the image's height and width respectively.\n",
    "\n",
    "Also check out this [thread](https://twitter.com/_ScottCondron/status/1363494433715552259) \\[yes, it's a tweet :)\\] and [this article](https://stanford.edu/~shervine/blog/pytorch-how-to-generate-data-parallel)."
   ]
  },
  {
   "cell_type": "markdown",
   "metadata": {},
   "source": [
    "# 3. Inference on the sample Imagenet dataset"
   ]
  },
  {
   "cell_type": "markdown",
   "metadata": {},
   "source": [
    "To demonstrate inference on a pretrained network, we've created a dataset, consisting of 100 images by sampling 5 images from 20 classes in the Imagenet dataset. Imagenet dataset comprises approximately 1 million images and 1000 classes, and in the interest of keeping things simple, we've provided a smaller subset. "
   ]
  },
  {
   "cell_type": "markdown",
   "metadata": {},
   "source": [
    "## Question 1 [15%]\n",
    "To work with this dataset, you'll need to create a `Dataset` object, since Imagenet dataset cannot be downloaded directly via the `torchvision.datasets` package. In order to do that, you need to define a class subclassing the abstract `Dataset` class. Any custom `Dataset` class should contain the following:\n",
    "\n",
    "1. `__init__()` method: Constructor method. We've provided the list of attributes the class would need.\n",
    "2. `__len__()` method: Returns the number of samples in the dataset.\n",
    "3. `__getitem__()` method: Given an index, it returns the (input, target) pair at that index."
   ]
  },
  {
   "cell_type": "code",
   "execution_count": 14,
   "metadata": {},
   "outputs": [],
   "source": [
    "from torch.utils.data import Dataset\n",
    "import glob\n",
    "import numpy as np\n",
    "from PIL import Image\n",
    "\n",
    "class SampleImagenetDataset(Dataset):\n",
    "    def __init__(self, dataset_dir, transform=None):\n",
    "        '''glob.glob(path + '/*.csv')\n",
    "        Args:\n",
    "        root_dir: path where all the 100 jpg images are located\n",
    "        transform: set of transforms to apply on a dataset sample\n",
    "        '''\n",
    "        # TODO: Generate a list containing paths to all the 100 jpg images inside\n",
    "        # dataset_dir folder location passed as an argument. Use the glob library to do this.\n",
    "        self.image_list = glob.glob( dataset_dir + '/*.jpg' )\n",
    "        #print(self.image_list)\n",
    "        # TODO: There's a file called 'labels_to_ids.txt' inside the dataset_dir.\n",
    "        # Read the file contents to generate a dictionary containing\n",
    "        # label to idx mapping. The resulting dictionary should have a `str`\n",
    "        # type key mapped to a `int` type value representing the index\n",
    "        print(dataset_dir)\n",
    "\n",
    "        self.labels_to_ids = glob.glob(dataset_dir + \"/*labels_to_ids.txt\")\n",
    "        #print(self.labels_to_ids)\n",
    "        d = {}\n",
    "        with open(self.labels_to_ids[0]) as f:\n",
    "            for line in f:\n",
    "               (key, val) = line.split()\n",
    "               d[key] = int(val)\n",
    "        self.labels_to_ids = d\n",
    "        \n",
    "        \n",
    "        self.transform = transform\n",
    "    \n",
    "    def __len__(self):\n",
    "        return len(self.image_list)\n",
    "    \n",
    "    def __getitem__(self, idx):\n",
    "        img_path = self.image_list[idx]\n",
    "\n",
    "        classname = img_path.split(\"_\", 3)[-1].split(\".\")[0]\n",
    "        label = self.labels_to_ids[classname]\n",
    "        # TODO: Open the image using PIL.Image package\n",
    "        image = Image.open(img_path)\n",
    "        \n",
    "        if self.transform:\n",
    "            # TODO: Apply the transform to the `image` which is the parameter for \n",
    "            # this(SampleImagenetDataset) class and overwrite the output back to the `image` variable\n",
    "            image = self.transform(image)\n",
    "        \n",
    "        return image, label\n"
   ]
  },
  {
   "cell_type": "markdown",
   "metadata": {},
   "source": [
    "## Question 2 [5%]\n",
    "Having defined our custom dataset class, we'll instantiate a `SampleImagenetDataset` class object. And then we'll set up a `DataLoader` object."
   ]
  },
  {
   "cell_type": "code",
   "execution_count": 15,
   "metadata": {},
   "outputs": [
    {
     "name": "stdout",
     "output_type": "stream",
     "text": [
      "../shared/data/HW2/imagenet_samples\n"
     ]
    }
   ],
   "source": [
    "from torchvision import transforms\n",
    "from torch.utils.data import DataLoader\n",
    "\n",
    "data_transform = transforms.Compose([\n",
    "        transforms.RandomResizedCrop(224),\n",
    "        transforms.RandomHorizontalFlip(),\n",
    "        transforms.ToTensor(),\n",
    "        transforms.Normalize([0.485, 0.456, 0.406], [0.229, 0.224, 0.225])\n",
    "    ])\n",
    "\n",
    "sample_dataset = SampleImagenetDataset('../shared/data/HW2/imagenet_samples', data_transform)\n",
    "\n",
    "# TODO: Create a `DataLoader` object\n",
    "# to load images from `sample_dataset` object created above.\n",
    "# Shuffle the dataset and use a batch size of 10.\n",
    "# Docs: https://pytorch.org/docs/stable/data.html#torch.utils.data.DataLoader\n",
    "dataset_loader = DataLoader(sample_dataset, batch_size=10, shuffle=True)\n",
    "#print(dataset_loader)"
   ]
  },
  {
   "cell_type": "markdown",
   "metadata": {},
   "source": [
    "## Question 3 [5%]\n",
    "Using the `DataLoader` object, we will iterate over the dataset, dividing it into batches and working on each batch per iteration. For each batch, the network takes the input tensor and outputs the prediction. All predictions and targets (true labels) will be combined and stored in 2 lists -- `outputs` and `targets` respectively."
   ]
  },
  {
   "cell_type": "code",
   "execution_count": 16,
   "metadata": {},
   "outputs": [
    {
     "name": "stderr",
     "output_type": "stream",
     "text": [
      "/opt/conda/envs/csciua-0480042-fall/lib/python3.7/site-packages/torchvision/models/_utils.py:209: UserWarning: The parameter 'pretrained' is deprecated since 0.13 and may be removed in the future, please use 'weights' instead.\n",
      "  f\"The parameter '{pretrained_param}' is deprecated since 0.13 and may be removed in the future, \"\n",
      "/opt/conda/envs/csciua-0480042-fall/lib/python3.7/site-packages/torchvision/models/_utils.py:223: UserWarning: Arguments other than a weight enum or `None` for 'weights' are deprecated since 0.13 and may be removed in the future. The current behavior is equivalent to passing `weights=ResNet18_Weights.IMAGENET1K_V1`. You can also use `weights=ResNet18_Weights.DEFAULT` to get the most up-to-date weights.\n",
      "  warnings.warn(msg)\n"
     ]
    },
    {
     "name": "stdout",
     "output_type": "stream",
     "text": [
      "torch.Size([10, 3, 224, 224])\n",
      "torch.Size([10])\n",
      "torch.Size([10, 1000])\n",
      "0\n",
      "torch.Size([10, 3, 224, 224])\n",
      "torch.Size([10])\n",
      "torch.Size([10, 1000])\n",
      "1\n",
      "torch.Size([10, 3, 224, 224])\n",
      "torch.Size([10])\n",
      "torch.Size([10, 1000])\n",
      "2\n",
      "torch.Size([10, 3, 224, 224])\n",
      "torch.Size([10])\n",
      "torch.Size([10, 1000])\n",
      "3\n",
      "torch.Size([10, 3, 224, 224])\n",
      "torch.Size([10])\n",
      "torch.Size([10, 1000])\n",
      "4\n",
      "torch.Size([10, 3, 224, 224])\n",
      "torch.Size([10])\n",
      "torch.Size([10, 1000])\n",
      "5\n",
      "torch.Size([10, 3, 224, 224])\n",
      "torch.Size([10])\n",
      "torch.Size([10, 1000])\n",
      "6\n",
      "torch.Size([10, 3, 224, 224])\n",
      "torch.Size([10])\n",
      "torch.Size([10, 1000])\n",
      "7\n",
      "torch.Size([10, 3, 224, 224])\n",
      "torch.Size([10])\n",
      "torch.Size([10, 1000])\n",
      "8\n",
      "torch.Size([10, 3, 224, 224])\n",
      "torch.Size([10])\n",
      "torch.Size([10, 1000])\n",
      "9\n",
      "100\n"
     ]
    }
   ],
   "source": [
    "from torchvision import models\n",
    "\n",
    "# TODO:\n",
    "# Construct a **pretrained** ResNet-18 model. Use the\n",
    "# `torchvision.models` package.\n",
    "resnet18 = models.resnet18(pretrained=True)\n",
    "\n",
    "outputs = []\n",
    "targets = []\n",
    "\n",
    "for idx, (input_tensor, target_tensor) in enumerate(dataset_loader):\n",
    "    print(input_tensor.shape)\n",
    "    print(target_tensor.shape)\n",
    "\n",
    "    # TODO: Compute the pretrained model's output on input_tensor\n",
    "    output_tensor = resnet18(input_tensor)\n",
    "    #print(output_tensor)\n",
    "\n",
    "    # Notes:\n",
    "    # 1. argmax() - index of max value in output_tensor(the network's predicted label) output_tensor is a 2d tensor of \n",
    "    #    dimensions [batch_size, num_classes]. \n",
    "    \n",
    "    #argmax(axis=1) returns the indices \n",
    "    #    of the maximum values across dim=1 (across the row). Resulting tensor \n",
    "    #    would be a 1D tensor of size [batch_size].\n",
    "    #    See https://pytorch.org/docs/stable/generated/torch.argmax.html#torch-argmax\n",
    "    # 2. Calling numpy() converts a PyTorch tensor to a numpy array\n",
    "    # 3. list(<arr>) converts a NumPy array to a list\n",
    "    # 4. l1 += l2 appends elements of list l2 to list l1.\n",
    "    \n",
    "    outputs += list(output_tensor.argmax(1).numpy())\n",
    "    targets += list(target_tensor.numpy())\n",
    "    print(output_tensor.shape)\n",
    "    print(idx)\n",
    "print(len(outputs))\n",
    "#print((outputs[0]))\n"
   ]
  },
  {
   "cell_type": "markdown",
   "metadata": {},
   "source": [
    "## Question 4 [5%]\n",
    "How many batches are generated in the `for` loop? What're the sizes/shapes of the `input_tensor`, `target_tensor` and `output_tensor` in any given iteration?"
   ]
  },
  {
   "cell_type": "markdown",
   "metadata": {},
   "source": [
    "#### Answer :\n",
    "Number of Batches : 100 <br>\n",
    "Size of input_tensor : 10 <br>\n",
    "Size of target_tensor : 10 <br>\n",
    "Size of output_tensor : 10 <br>\n"
   ]
  },
  {
   "cell_type": "markdown",
   "metadata": {},
   "source": [
    "# 4. Classification Analysis"
   ]
  },
  {
   "cell_type": "markdown",
   "metadata": {},
   "source": [
    "From part 3, we have the network's predicted label indices and the target label (or the true label) indices. Using [`scikit-learn`](https://machinelearningmastery.com/a-gentle-introduction-to-scikit-learn-a-python-machine-learning-library/), we'll perform some analysis on those results. \n",
    "\n",
    "But before we do that, we'll convert those `int`-type indices to `str`-type labels using a idx-to-label mapping. This mapping has been provided in the `../shared/data/HW2/imagenet_samples` folder in a file named `ids_to_labels.txt`. "
   ]
  },
  {
   "cell_type": "markdown",
   "metadata": {},
   "source": [
    "## Question 5 [5%]\n",
    "Read the contents of the file and generate a python dictionary that holds the idx-to-label mapping. In the map, the key is an `int`-type index and the value is a `str`-type label."
   ]
  },
  {
   "cell_type": "code",
   "execution_count": 19,
   "metadata": {},
   "outputs": [
    {
     "name": "stdout",
     "output_type": "stream",
     "text": [
      "20\n"
     ]
    }
   ],
   "source": [
    "# TODO:\n",
    "label_file = \"../shared/data/HW2/imagenet_samples/ids_to_labels.txt\"\n",
    "\n",
    "ids_to_labels = {}\n",
    "with open(label_file) as f:\n",
    "    for line in f:\n",
    "        (key_id,label) = line.split(\" \")\n",
    "        ids_to_labels[int(key_id)] = str(label)\n",
    "\n",
    "\n",
    "\n",
    "# We'll convert the list of keys in the mapping to a Python `set`\n",
    "ids = set(ids_to_labels.keys())\n",
    "print(len(ids_to_labels))"
   ]
  },
  {
   "cell_type": "markdown",
   "metadata": {},
   "source": [
    "Now let's convert these `int`-values in the `outputs` list to a list of `str`-type labels. However, some network predictions may not be in the list of classes we've picked (remember: Imagenet has 1000 classes and we just picked 20 classes). Such indices will be mapped to label \"other\" using the method below:"
   ]
  },
  {
   "cell_type": "code",
   "execution_count": 18,
   "metadata": {},
   "outputs": [
    {
     "name": "stdout",
     "output_type": "stream",
     "text": [
      "[204, 827, 674, 117, 905, 802, 328, 950, 923, 505, 642, 824, 129, 950, 802, 875, 530, 924, 626, 948, 340, 952, 107, 827, 796, 573, 534, 582, 914, 541, 831, 950, 951, 838, 875, 534, 795, 543, 748, 626, 550, 802, 957, 639, 949, 924, 798, 597, 107, 731, 952, 456, 998, 340, 523, 892, 957, 797, 951, 766, 352, 890, 340, 107, 605, 827, 950, 949, 748, 587, 754, 949, 605, 428, 534, 523, 924, 957, 659, 530, 949, 534, 512, 875, 530, 843, 951, 949, 748, 20, 605, 530, 957, 752, 36, 523, 827, 647, 977, 420]\n",
      "[827, 827, 587, 952, 605, 802, 950, 950, 924, 587, 875, 748, 107, 950, 802, 875, 530, 924, 530, 951, 340, 952, 107, 827, 340, 802, 534, 952, 587, 420, 543, 950, 951, 420, 875, 534, 795, 543, 748, 795, 534, 802, 957, 107, 949, 924, 420, 748, 107, 420, 952, 523, 875, 340, 523, 530, 957, 523, 951, 543, 340, 543, 340, 107, 605, 827, 950, 949, 748, 587, 605, 949, 605, 543, 534, 523, 924, 957, 924, 530, 949, 534, 957, 875, 587, 523, 951, 949, 748, 952, 605, 530, 957, 795, 802, 795, 827, 951, 795, 420]\n"
     ]
    }
   ],
   "source": [
    "def transform_outputs(outputs):\n",
    "    print(outputs)\n",
    "    return [ids_to_labels[output] if output in ids else \"other\" for output in outputs]\n",
    "\n",
    "outputs = transform_outputs(outputs)\n",
    "targets = transform_outputs(targets)\n",
    "\n",
    "\n"
   ]
  },
  {
   "cell_type": "markdown",
   "metadata": {},
   "source": [
    "## Question 6 [5%]\n",
    "Using [`sklearn.metrics`](https://scikit-learn.org/stable/modules/model_evaluation.html#classification-metrics) generate a classification report showing the per-class precision, recall and f1-score. \n"
   ]
  },
  {
   "cell_type": "code",
   "execution_count": 21,
   "metadata": {},
   "outputs": [
    {
     "name": "stdout",
     "output_type": "stream",
     "text": [
      "Defaulting to user installation because normal site-packages is not writeable\n",
      "Collecting sklearn\n",
      "  Downloading sklearn-0.0.post1.tar.gz (3.6 kB)\n",
      "  Preparing metadata (setup.py) ... \u001b[?25ldone\n",
      "\u001b[?25hBuilding wheels for collected packages: sklearn\n",
      "  Building wheel for sklearn (setup.py) ... \u001b[?25ldone\n",
      "\u001b[?25h  Created wheel for sklearn: filename=sklearn-0.0.post1-py3-none-any.whl size=2936 sha256=d2ecbdec12d64a3fa03725bec1c803191b24a449900d74c872365eeef0ed0640\n",
      "  Stored in directory: /home/jovyan/.cache/pip/wheels/42/56/cc/4a8bf86613aafd5b7f1b310477667c1fca5c51c3ae4124a003\n",
      "Successfully built sklearn\n",
      "Installing collected packages: sklearn\n",
      "Successfully installed sklearn-0.0.post1\n"
     ]
    }
   ],
   "source": [
    "!pip install sklearn"
   ]
  },
  {
   "cell_type": "code",
   "execution_count": 24,
   "metadata": {},
   "outputs": [
    {
     "name": "stdout",
     "output_type": "stream",
     "text": [
      "              precision    recall  f1-score   support\n",
      "\n",
      "    Target 1       1.00      0.20      0.33         5\n",
      "    Target 2       0.67      0.40      0.50         5\n",
      "    Target 3       0.75      0.60      0.67         5\n",
      "    Target 4       1.00      0.80      0.89         5\n",
      "    Target 5       1.00      0.20      0.33         5\n",
      "    Target 6       1.00      0.40      0.57         5\n",
      "    Target 7       1.00      0.60      0.75         5\n",
      "    Target 8       1.00      0.20      0.33         5\n",
      "    Target 9       1.00      0.60      0.75         5\n",
      "   Target 10       1.00      0.60      0.75         5\n",
      "   Target 11       1.00      0.60      0.75         5\n",
      "   Target 12       1.00      0.80      0.89         5\n",
      "   Target 13       0.00      0.00      0.00         0\n",
      "   Target 14       1.00      0.80      0.89         5\n",
      "   Target 15       1.00      0.60      0.75         5\n",
      "   Target 16       1.00      0.20      0.33         5\n",
      "   Target 17       1.00      0.60      0.75         5\n",
      "   Target 18       1.00      0.80      0.89         5\n",
      "   Target 19       1.00      1.00      1.00         5\n",
      "   Target 20       1.00      0.60      0.75         5\n",
      "   Target 21       1.00      0.60      0.75         5\n",
      "\n",
      "    accuracy                           0.56       100\n",
      "   macro avg       0.92      0.53      0.65       100\n",
      "weighted avg       0.97      0.56      0.68       100\n",
      "\n"
     ]
    },
    {
     "name": "stderr",
     "output_type": "stream",
     "text": [
      "/opt/conda/envs/csciua-0480042-fall/lib/python3.7/site-packages/sklearn/metrics/_classification.py:1318: UndefinedMetricWarning: Recall and F-score are ill-defined and being set to 0.0 in labels with no true samples. Use `zero_division` parameter to control this behavior.\n",
      "  _warn_prf(average, modifier, msg_start, len(result))\n",
      "/opt/conda/envs/csciua-0480042-fall/lib/python3.7/site-packages/sklearn/metrics/_classification.py:1318: UndefinedMetricWarning: Recall and F-score are ill-defined and being set to 0.0 in labels with no true samples. Use `zero_division` parameter to control this behavior.\n",
      "  _warn_prf(average, modifier, msg_start, len(result))\n",
      "/opt/conda/envs/csciua-0480042-fall/lib/python3.7/site-packages/sklearn/metrics/_classification.py:1318: UndefinedMetricWarning: Recall and F-score are ill-defined and being set to 0.0 in labels with no true samples. Use `zero_division` parameter to control this behavior.\n",
      "  _warn_prf(average, modifier, msg_start, len(result))\n"
     ]
    }
   ],
   "source": [
    "import sklearn\n",
    "from sklearn import metrics\n",
    "\n",
    "labels = [\"Target \" + str(i+1) for i in range(21)]\n",
    "\n",
    "report = sklearn.metrics.classification_report(targets,outputs, target_names = labels)\n",
    "\n",
    "# TODO: Check classification_report method here https://scikit-learn.org/stable/modules/generated/sklearn.metrics.classification_report.html\n",
    "print(report)\n"
   ]
  },
  {
   "cell_type": "markdown",
   "metadata": {},
   "source": [
    "## Question 7 [5%]\n",
    "In 3-4 sentences, explain what micro- and macro- averages are and how they're different from each other. The method used in Q6 above does not print the micro-averaged metrics, please briefly explain why in 3-4 lines.\n"
   ]
  },
  {
   "cell_type": "markdown",
   "metadata": {},
   "source": [
    "#### Answer :\n",
    "\n",
    "\n",
    "Micro averages are taken over total true positives, false negatives, and false positives(averaging all classes together).\n",
    "MAcro averages are unweighted means of each class, which are then averaged to gether to give a macro-average.\n",
    "\n",
    "\n",
    "The macro-average average treats all classes equally(hence the macro-scope) while the micro-average treats each individual equally. \n"
   ]
  },
  {
   "cell_type": "markdown",
   "metadata": {},
   "source": [
    "## Question 8 [5%]"
   ]
  },
  {
   "cell_type": "markdown",
   "metadata": {},
   "source": [
    "A confusion matrix (or an error matrix) allows us to visualize model's performance on a per-class basis. From [Wikipedia](https://en.wikipedia.org/wiki/Confusion_matrix), \"each row of the matrix represents the instances in a predicted class, while each column represents the instances in an actual class (or vice versa)\".\n",
    "\n",
    "Using `sklearn.metrics`, compute the confusion matrix."
   ]
  },
  {
   "cell_type": "code",
   "execution_count": 25,
   "metadata": {},
   "outputs": [],
   "source": [
    "ids_to_labels[0] = \"other\"\n",
    "labels_list = list(ids_to_labels.values())\n",
    "\n",
    "# TODO: Search for a method in sklearn.metrics package which gives you the required matrix : https://scikit-learn.org/stable/modules/classes.html#classification-metrics\n",
    "conf_matrix = sklearn.metrics.confusion_matrix(targets,outputs)"
   ]
  },
  {
   "cell_type": "markdown",
   "metadata": {},
   "source": [
    "Now let's plot the confusion matrix:"
   ]
  },
  {
   "cell_type": "code",
   "execution_count": 26,
   "metadata": {
    "scrolled": true
   },
   "outputs": [
    {
     "data": {
      "image/png": "[encoded data removed]",
      "text/plain": [
       "<Figure size 700x700 with 2 Axes>"
      ]
     },
     "metadata": {},
     "output_type": "display_data"
    }
   ],
   "source": [
    "import matplotlib.pyplot as plt\n",
    "%matplotlib inline\n",
    "\n",
    "fig, ax = plt.subplots(figsize=(7, 7))\n",
    "plot = ax.imshow(conf_matrix, interpolation=\"nearest\")\n",
    "ax.set_xticks(np.arange(0, 21))\n",
    "ax.set_xticklabels(labels_list)\n",
    "plt.setp(ax.get_xticklabels(), rotation=45, ha=\"right\", rotation_mode=\"anchor\")\n",
    "ax.set_yticks(np.arange(0, 21))\n",
    "ax.set_yticklabels(labels_list);\n",
    "ax.set_xlabel(\"Predicted class\")\n",
    "ax.set_ylabel(\"Target class\")\n",
    "plt.colorbar(plot, ax=ax);"
   ]
  },
  {
   "cell_type": "markdown",
   "metadata": {},
   "source": [
    "## Note : Before proceeding further, please restart the kernel without clearing output to free up memory and start fresh for next questions."
   ]
  },
  {
   "cell_type": "markdown",
   "metadata": {},
   "source": [
    "# 5. Reconstructing a model from onnx file\n"
   ]
  },
  {
   "cell_type": "markdown",
   "metadata": {},
   "source": [
    "## Question 9 [25%]"
   ]
  },
  {
   "cell_type": "markdown",
   "metadata": {},
   "source": [
    "Your task is to reconstruct a pytorch model from the onnx file “reconstruct.onnx” (located at `../shared/data/HW2`) and print the model summary at the end. You’ll have to reverse engineer what the netron notations for convolution mean from your previous assignment. <br>\n",
    "\n",
    "Refer HW1 to create a CNN and https://pytorch.org/docs/stable/generated/torch.nn.Sequential.html <br>\n",
    "`Hint : Read and use`<a href=\"https://pytorch.org/docs/stable/generated/torch.nn.ConvTranspose2d.html\"><u>`this`</u></a>`for the ConvTranspose layers.` <br>\n",
    "`Hint : Click on the nodes of netron graph in the netron app to get the parameters for a particular node/layer.`"
   ]
  },
  {
   "cell_type": "code",
   "execution_count": 33,
   "metadata": {},
   "outputs": [],
   "source": [
    "import torch\n",
    "import torch.nn as nn\n",
    "import torch.nn.functional as F\n",
    "import copy\n",
    "\n",
    "import torch.onnx\n",
    "from torchsummary import summary\n",
    "class ConvNet(nn.Module):\n",
    "    def __init__(self):\n",
    "        super().__init__()\n",
    "\n",
    "        \n",
    "        self.conv0 = nn.Conv2d(3,    64,kernel_size = 3, stride = 1, padding=1, bias = False)\n",
    "        self.conv3 = nn.Conv2d(64,  128,kernel_size = 3, stride = 1, padding=1, bias = False)\n",
    "        self.conv6 = nn.Conv2d(128, 256,kernel_size = 3, stride = 1, padding=1, bias = False)\n",
    "        self.conv9 = nn.Conv2d(256, 512,kernel_size = 3, stride = 1, padding=1, bias = False)\n",
    "        self.conv12= nn.Conv2d(512,1024,kernel_size = 3, stride = 1, padding=1, bias = False)        \n",
    "                \n",
    "        self.convTR15=torch.nn.ConvTranspose2d(1024, 512, kernel_size=2, stride=2)\n",
    "        self.convTR17=torch.nn.ConvTranspose2d(1024, 256, kernel_size=2, stride=2)\n",
    "        self.convTR19=torch.nn.ConvTranspose2d(512 , 128, kernel_size=2, stride=2)     \n",
    "        self.convTR21=torch.nn.ConvTranspose2d(256 , 128, kernel_size=2, stride=2)\n",
    "        self.convTR22=torch.nn.ConvTranspose2d(128 , 3  , kernel_size=2, stride=2)\n",
    "        \n",
    "    def forward(self, x):\n",
    "        orig = copy.copy(x)\n",
    "\n",
    "        # TODO : Your model code here ...\n",
    "        x = F.max_pool2d(F.relu(self.conv3(F.max_pool2d(F.relu(self.conv0(x)), kernel_size=2, stride=2))),kernel_size=2, stride=2)\n",
    "        \n",
    "        \n",
    "        c20 = copy.copy(x)\n",
    "        x =  F.max_pool2d(F.relu(self.conv6(x)), kernel_size=2, stride=2)\n",
    "        c18 = copy.copy(x)\n",
    "        x =  F.max_pool2d(F.relu(self.conv9(x)), kernel_size=2, stride=2)\n",
    "\n",
    "        c16 = copy.copy(x)\n",
    "        \n",
    "        x =  F.max_pool2d(F.relu(self.conv12(x)), kernel_size=2, stride=2)\n",
    "        y = copy.copy(x)\n",
    "        y = self.convTR15(y)\n",
    "#        print(y.shape)\n",
    "#        print(c16.shape)\n",
    "\n",
    "        y = torch.concat((c16,y),dim=1)\n",
    "        \n",
    "        y = torch.concat((c18,self.convTR17(y)),dim=1)\n",
    "        y = torch.concat((c20,self.convTR19(y)),dim=1)\n",
    "        \n",
    "        \n",
    "        y=self.convTR21(y)\n",
    "        y=self.convTR22(y)\n",
    "\n",
    "        \n",
    "        return y"
   ]
  },
  {
   "cell_type": "markdown",
   "metadata": {},
   "source": [
    "Simulate a RGB 256x256 image to feed forward the network and generate a onnx model file, you can use the netron app(https://netron.app/) to check if the model you created is same as asked(\"reconstruct.onnx\").\n",
    "\n",
    "`Note : You can ignore the warnings.`"
   ]
  },
  {
   "cell_type": "code",
   "execution_count": 35,
   "metadata": {},
   "outputs": [
    {
     "ename": "RuntimeError",
     "evalue": "!v.requires_grad() INTERNAL ASSERT FAILED at \"../torch/csrc/jit/python/python_ir.cpp\":723, please report a bug to PyTorch. ",
     "output_type": "error",
     "traceback": [
      "\u001b[0;31m---------------------------------------------------------------------------\u001b[0m",
      "\u001b[0;31mRuntimeError\u001b[0m                              Traceback (most recent call last)",
      "\u001b[0;32m/tmp/ipykernel_218/953264841.py\u001b[0m in \u001b[0;36m<module>\u001b[0;34m\u001b[0m\n\u001b[1;32m      6\u001b[0m                   \u001b[0;34m\"myconvnet.onnx\"\u001b[0m\u001b[0;34m,\u001b[0m\u001b[0;34m\u001b[0m\u001b[0;34m\u001b[0m\u001b[0m\n\u001b[1;32m      7\u001b[0m                   \u001b[0mdo_constant_folding\u001b[0m\u001b[0;34m=\u001b[0m\u001b[0;32mTrue\u001b[0m\u001b[0;34m,\u001b[0m\u001b[0;34m\u001b[0m\u001b[0;34m\u001b[0m\u001b[0m\n\u001b[0;32m----> 8\u001b[0;31m                   \u001b[0mdynamic_axes\u001b[0m\u001b[0;34m=\u001b[0m\u001b[0;34m{\u001b[0m\u001b[0;34m'input'\u001b[0m \u001b[0;34m:\u001b[0m \u001b[0;34m{\u001b[0m\u001b[0;36m0\u001b[0m \u001b[0;34m:\u001b[0m \u001b[0;34m'batch_size'\u001b[0m\u001b[0;34m}\u001b[0m\u001b[0;34m,\u001b[0m\u001b[0;34m'output'\u001b[0m \u001b[0;34m:\u001b[0m \u001b[0;34m{\u001b[0m\u001b[0;36m0\u001b[0m \u001b[0;34m:\u001b[0m \u001b[0;34m'batch_size'\u001b[0m\u001b[0;34m}\u001b[0m\u001b[0;34m}\u001b[0m\u001b[0;34m\u001b[0m\u001b[0;34m\u001b[0m\u001b[0m\n\u001b[0m\u001b[1;32m      9\u001b[0m                  )\n",
      "\u001b[0;32m/opt/conda/envs/csciua-0480042-fall/lib/python3.7/site-packages/torch/onnx/utils.py\u001b[0m in \u001b[0;36mexport\u001b[0;34m(model, args, f, export_params, verbose, training, input_names, output_names, operator_export_type, opset_version, do_constant_folding, dynamic_axes, keep_initializers_as_inputs, custom_opsets, export_modules_as_functions)\u001b[0m\n\u001b[1;32m    517\u001b[0m         \u001b[0mkeep_initializers_as_inputs\u001b[0m\u001b[0;34m=\u001b[0m\u001b[0mkeep_initializers_as_inputs\u001b[0m\u001b[0;34m,\u001b[0m\u001b[0;34m\u001b[0m\u001b[0;34m\u001b[0m\u001b[0m\n\u001b[1;32m    518\u001b[0m         \u001b[0mcustom_opsets\u001b[0m\u001b[0;34m=\u001b[0m\u001b[0mcustom_opsets\u001b[0m\u001b[0;34m,\u001b[0m\u001b[0;34m\u001b[0m\u001b[0;34m\u001b[0m\u001b[0m\n\u001b[0;32m--> 519\u001b[0;31m         \u001b[0mexport_modules_as_functions\u001b[0m\u001b[0;34m=\u001b[0m\u001b[0mexport_modules_as_functions\u001b[0m\u001b[0;34m,\u001b[0m\u001b[0;34m\u001b[0m\u001b[0;34m\u001b[0m\u001b[0m\n\u001b[0m\u001b[1;32m    520\u001b[0m     )\n\u001b[1;32m    521\u001b[0m \u001b[0;34m\u001b[0m\u001b[0m\n",
      "\u001b[0;32m/opt/conda/envs/csciua-0480042-fall/lib/python3.7/site-packages/torch/onnx/utils.py\u001b[0m in \u001b[0;36m_export\u001b[0;34m(model, args, f, export_params, verbose, training, input_names, output_names, operator_export_type, export_type, opset_version, do_constant_folding, dynamic_axes, keep_initializers_as_inputs, fixed_batch_size, custom_opsets, add_node_names, onnx_shape_inference, export_modules_as_functions)\u001b[0m\n\u001b[1;32m   1537\u001b[0m                 \u001b[0mfixed_batch_size\u001b[0m\u001b[0;34m=\u001b[0m\u001b[0mfixed_batch_size\u001b[0m\u001b[0;34m,\u001b[0m\u001b[0;34m\u001b[0m\u001b[0;34m\u001b[0m\u001b[0m\n\u001b[1;32m   1538\u001b[0m                 \u001b[0mtraining\u001b[0m\u001b[0;34m=\u001b[0m\u001b[0mtraining\u001b[0m\u001b[0;34m,\u001b[0m\u001b[0;34m\u001b[0m\u001b[0;34m\u001b[0m\u001b[0m\n\u001b[0;32m-> 1539\u001b[0;31m                 \u001b[0mdynamic_axes\u001b[0m\u001b[0;34m=\u001b[0m\u001b[0mdynamic_axes\u001b[0m\u001b[0;34m,\u001b[0m\u001b[0;34m\u001b[0m\u001b[0;34m\u001b[0m\u001b[0m\n\u001b[0m\u001b[1;32m   1540\u001b[0m             )\n\u001b[1;32m   1541\u001b[0m \u001b[0;34m\u001b[0m\u001b[0m\n",
      "\u001b[0;32m/opt/conda/envs/csciua-0480042-fall/lib/python3.7/site-packages/torch/onnx/utils.py\u001b[0m in \u001b[0;36m_model_to_graph\u001b[0;34m(model, args, verbose, input_names, output_names, operator_export_type, do_constant_folding, _disable_torch_constant_prop, fixed_batch_size, training, dynamic_axes)\u001b[0m\n\u001b[1;32m   1121\u001b[0m             \u001b[0mdynamic_axes\u001b[0m\u001b[0;34m=\u001b[0m\u001b[0mdynamic_axes\u001b[0m\u001b[0;34m,\u001b[0m\u001b[0;34m\u001b[0m\u001b[0;34m\u001b[0m\u001b[0m\n\u001b[1;32m   1122\u001b[0m             \u001b[0minput_names\u001b[0m\u001b[0;34m=\u001b[0m\u001b[0minput_names\u001b[0m\u001b[0;34m,\u001b[0m\u001b[0;34m\u001b[0m\u001b[0;34m\u001b[0m\u001b[0m\n\u001b[0;32m-> 1123\u001b[0;31m             \u001b[0mmodule\u001b[0m\u001b[0;34m=\u001b[0m\u001b[0mmodule\u001b[0m\u001b[0;34m,\u001b[0m\u001b[0;34m\u001b[0m\u001b[0;34m\u001b[0m\u001b[0m\n\u001b[0m\u001b[1;32m   1124\u001b[0m         )\n\u001b[1;32m   1125\u001b[0m     \u001b[0;32mexcept\u001b[0m \u001b[0mException\u001b[0m \u001b[0;32mas\u001b[0m \u001b[0me\u001b[0m\u001b[0;34m:\u001b[0m\u001b[0;34m\u001b[0m\u001b[0;34m\u001b[0m\u001b[0m\n",
      "\u001b[0;32m/opt/conda/envs/csciua-0480042-fall/lib/python3.7/site-packages/torch/onnx/utils.py\u001b[0m in \u001b[0;36m_optimize_graph\u001b[0;34m(graph, operator_export_type, _disable_torch_constant_prop, fixed_batch_size, params_dict, dynamic_axes, input_names, module)\u001b[0m\n\u001b[1;32m    661\u001b[0m     \u001b[0m_C\u001b[0m\u001b[0;34m.\u001b[0m\u001b[0m_jit_pass_onnx_lint\u001b[0m\u001b[0;34m(\u001b[0m\u001b[0mgraph\u001b[0m\u001b[0;34m)\u001b[0m\u001b[0;34m\u001b[0m\u001b[0;34m\u001b[0m\u001b[0m\n\u001b[1;32m    662\u001b[0m \u001b[0;34m\u001b[0m\u001b[0m\n\u001b[0;32m--> 663\u001b[0;31m     \u001b[0mgraph\u001b[0m \u001b[0;34m=\u001b[0m \u001b[0m_C\u001b[0m\u001b[0;34m.\u001b[0m\u001b[0m_jit_pass_onnx\u001b[0m\u001b[0;34m(\u001b[0m\u001b[0mgraph\u001b[0m\u001b[0;34m,\u001b[0m \u001b[0moperator_export_type\u001b[0m\u001b[0;34m)\u001b[0m\u001b[0;34m\u001b[0m\u001b[0;34m\u001b[0m\u001b[0m\n\u001b[0m\u001b[1;32m    664\u001b[0m     \u001b[0m_C\u001b[0m\u001b[0;34m.\u001b[0m\u001b[0m_jit_pass_onnx_lint\u001b[0m\u001b[0;34m(\u001b[0m\u001b[0mgraph\u001b[0m\u001b[0;34m)\u001b[0m\u001b[0;34m\u001b[0m\u001b[0;34m\u001b[0m\u001b[0m\n\u001b[1;32m    665\u001b[0m     \u001b[0m_C\u001b[0m\u001b[0;34m.\u001b[0m\u001b[0m_jit_pass_lint\u001b[0m\u001b[0;34m(\u001b[0m\u001b[0mgraph\u001b[0m\u001b[0;34m)\u001b[0m\u001b[0;34m\u001b[0m\u001b[0;34m\u001b[0m\u001b[0m\n",
      "\u001b[0;32m/opt/conda/envs/csciua-0480042-fall/lib/python3.7/site-packages/torch/onnx/utils.py\u001b[0m in \u001b[0;36m_run_symbolic_function\u001b[0;34m(graph, block, node, inputs, env, operator_export_type)\u001b[0m\n\u001b[1;32m   1865\u001b[0m                     \u001b[0mk\u001b[0m\u001b[0;34m:\u001b[0m \u001b[0msymbolic_helper\u001b[0m\u001b[0;34m.\u001b[0m\u001b[0m_node_get\u001b[0m\u001b[0;34m(\u001b[0m\u001b[0mnode\u001b[0m\u001b[0;34m,\u001b[0m \u001b[0mk\u001b[0m\u001b[0;34m)\u001b[0m \u001b[0;32mfor\u001b[0m \u001b[0mk\u001b[0m \u001b[0;32min\u001b[0m \u001b[0mnode\u001b[0m\u001b[0;34m.\u001b[0m\u001b[0mattributeNames\u001b[0m\u001b[0;34m(\u001b[0m\u001b[0;34m)\u001b[0m\u001b[0;34m\u001b[0m\u001b[0;34m\u001b[0m\u001b[0m\n\u001b[1;32m   1866\u001b[0m                 }\n\u001b[0;32m-> 1867\u001b[0;31m                 \u001b[0;32mreturn\u001b[0m \u001b[0msymbolic_fn\u001b[0m\u001b[0;34m(\u001b[0m\u001b[0mgraph_context\u001b[0m\u001b[0;34m,\u001b[0m \u001b[0;34m*\u001b[0m\u001b[0minputs\u001b[0m\u001b[0;34m,\u001b[0m \u001b[0;34m**\u001b[0m\u001b[0mattrs\u001b[0m\u001b[0;34m)\u001b[0m\u001b[0;34m\u001b[0m\u001b[0;34m\u001b[0m\u001b[0m\n\u001b[0m\u001b[1;32m   1868\u001b[0m \u001b[0;34m\u001b[0m\u001b[0m\n\u001b[1;32m   1869\u001b[0m         attrs = {\n",
      "\u001b[0;32m/opt/conda/envs/csciua-0480042-fall/lib/python3.7/site-packages/torch/onnx/symbolic_opset9.py\u001b[0m in \u001b[0;36mprim_constant\u001b[0;34m(g, *inputs, **attrs)\u001b[0m\n\u001b[1;32m   6623\u001b[0m         \u001b[0;32mreturn\u001b[0m \u001b[0;32mNone\u001b[0m\u001b[0;34m\u001b[0m\u001b[0;34m\u001b[0m\u001b[0m\n\u001b[1;32m   6624\u001b[0m     \u001b[0;32mif\u001b[0m \u001b[0mnode\u001b[0m\u001b[0;34m.\u001b[0m\u001b[0mkindOf\u001b[0m\u001b[0;34m(\u001b[0m\u001b[0;34m\"value\"\u001b[0m\u001b[0;34m)\u001b[0m \u001b[0;34m==\u001b[0m \u001b[0;34m\"t\"\u001b[0m\u001b[0;34m:\u001b[0m\u001b[0;34m\u001b[0m\u001b[0;34m\u001b[0m\u001b[0m\n\u001b[0;32m-> 6625\u001b[0;31m         \u001b[0;32mreturn\u001b[0m \u001b[0mg\u001b[0m\u001b[0;34m.\u001b[0m\u001b[0mop\u001b[0m\u001b[0;34m(\u001b[0m\u001b[0;34m\"Constant\"\u001b[0m\u001b[0;34m,\u001b[0m \u001b[0mvalue_t\u001b[0m\u001b[0;34m=\u001b[0m\u001b[0msymbolic_helper\u001b[0m\u001b[0;34m.\u001b[0m\u001b[0m_node_get\u001b[0m\u001b[0;34m(\u001b[0m\u001b[0mnode\u001b[0m\u001b[0;34m,\u001b[0m \u001b[0;34m\"value\"\u001b[0m\u001b[0;34m)\u001b[0m\u001b[0;34m)\u001b[0m\u001b[0;34m\u001b[0m\u001b[0;34m\u001b[0m\u001b[0m\n\u001b[0m\u001b[1;32m   6626\u001b[0m     \u001b[0;32mif\u001b[0m \u001b[0mnode\u001b[0m\u001b[0;34m.\u001b[0m\u001b[0mkindOf\u001b[0m\u001b[0;34m(\u001b[0m\u001b[0;34m\"value\"\u001b[0m\u001b[0;34m)\u001b[0m \u001b[0;34m==\u001b[0m \u001b[0;34m\"s\"\u001b[0m\u001b[0;34m:\u001b[0m\u001b[0;34m\u001b[0m\u001b[0;34m\u001b[0m\u001b[0m\n\u001b[1;32m   6627\u001b[0m         \u001b[0;32mreturn\u001b[0m \u001b[0mg\u001b[0m\u001b[0;34m.\u001b[0m\u001b[0mop\u001b[0m\u001b[0;34m(\u001b[0m\u001b[0;34m\"Constant\"\u001b[0m\u001b[0;34m,\u001b[0m \u001b[0mvalue_s\u001b[0m\u001b[0;34m=\u001b[0m\u001b[0msymbolic_helper\u001b[0m\u001b[0;34m.\u001b[0m\u001b[0m_node_get\u001b[0m\u001b[0;34m(\u001b[0m\u001b[0mnode\u001b[0m\u001b[0;34m,\u001b[0m \u001b[0;34m\"value\"\u001b[0m\u001b[0;34m)\u001b[0m\u001b[0;34m)\u001b[0m\u001b[0;34m\u001b[0m\u001b[0;34m\u001b[0m\u001b[0m\n",
      "\u001b[0;32m/opt/conda/envs/csciua-0480042-fall/lib/python3.7/site-packages/torch/onnx/_internal/jit_utils.py\u001b[0m in \u001b[0;36mop\u001b[0;34m(self, opname, outputs, *raw_args, **kwargs)\u001b[0m\n\u001b[1;32m     83\u001b[0m         \"\"\"\n\u001b[1;32m     84\u001b[0m         \u001b[0;31m# FIXME(justinchuby): Add the return type back once we know how to handle mypy\u001b[0m\u001b[0;34m\u001b[0m\u001b[0;34m\u001b[0m\u001b[0;34m\u001b[0m\u001b[0m\n\u001b[0;32m---> 85\u001b[0;31m         \u001b[0;32mreturn\u001b[0m \u001b[0m_add_op\u001b[0m\u001b[0;34m(\u001b[0m\u001b[0mself\u001b[0m\u001b[0;34m,\u001b[0m \u001b[0mopname\u001b[0m\u001b[0;34m,\u001b[0m \u001b[0;34m*\u001b[0m\u001b[0mraw_args\u001b[0m\u001b[0;34m,\u001b[0m \u001b[0moutputs\u001b[0m\u001b[0;34m=\u001b[0m\u001b[0moutputs\u001b[0m\u001b[0;34m,\u001b[0m \u001b[0;34m**\u001b[0m\u001b[0mkwargs\u001b[0m\u001b[0;34m)\u001b[0m\u001b[0;34m\u001b[0m\u001b[0;34m\u001b[0m\u001b[0m\n\u001b[0m\u001b[1;32m     86\u001b[0m \u001b[0;34m\u001b[0m\u001b[0m\n\u001b[1;32m     87\u001b[0m     \u001b[0;34m@\u001b[0m\u001b[0m_beartype\u001b[0m\u001b[0;34m.\u001b[0m\u001b[0mbeartype\u001b[0m\u001b[0;34m\u001b[0m\u001b[0;34m\u001b[0m\u001b[0m\n",
      "\u001b[0;32m/opt/conda/envs/csciua-0480042-fall/lib/python3.7/site-packages/torch/onnx/_internal/jit_utils.py\u001b[0m in \u001b[0;36m_add_op\u001b[0;34m(graph_context, opname, outputs, *args, **kwargs)\u001b[0m\n\u001b[1;32m    203\u001b[0m         \u001b[0mopset_version\u001b[0m\u001b[0;34m=\u001b[0m\u001b[0mgraph_context\u001b[0m\u001b[0;34m.\u001b[0m\u001b[0mopset\u001b[0m\u001b[0;34m,\u001b[0m\u001b[0;34m\u001b[0m\u001b[0;34m\u001b[0m\u001b[0m\n\u001b[1;32m    204\u001b[0m         \u001b[0mn_outputs\u001b[0m\u001b[0;34m=\u001b[0m\u001b[0moutputs\u001b[0m\u001b[0;34m,\u001b[0m\u001b[0;34m\u001b[0m\u001b[0;34m\u001b[0m\u001b[0m\n\u001b[0;32m--> 205\u001b[0;31m         \u001b[0mshape_inference\u001b[0m\u001b[0;34m=\u001b[0m\u001b[0mGLOBALS\u001b[0m\u001b[0;34m.\u001b[0m\u001b[0monnx_shape_inference\u001b[0m\u001b[0;34m,\u001b[0m\u001b[0;34m\u001b[0m\u001b[0;34m\u001b[0m\u001b[0m\n\u001b[0m\u001b[1;32m    206\u001b[0m     )\n\u001b[1;32m    207\u001b[0m \u001b[0;34m\u001b[0m\u001b[0m\n",
      "\u001b[0;32m/opt/conda/envs/csciua-0480042-fall/lib/python3.7/site-packages/torch/onnx/_internal/jit_utils.py\u001b[0m in \u001b[0;36m_create_node\u001b[0;34m(graph_or_block, domain_op, inputs, attributes, params_dict, opset_version, n_outputs, shape_inference)\u001b[0m\n\u001b[1;32m    254\u001b[0m         \u001b[0;32mif\u001b[0m \u001b[0mkey\u001b[0m \u001b[0;32min\u001b[0m \u001b[0m_SKIP_NODE_ATTRIBUTES\u001b[0m\u001b[0;34m:\u001b[0m\u001b[0;34m\u001b[0m\u001b[0;34m\u001b[0m\u001b[0m\n\u001b[1;32m    255\u001b[0m             \u001b[0;32mcontinue\u001b[0m\u001b[0;34m\u001b[0m\u001b[0;34m\u001b[0m\u001b[0m\n\u001b[0;32m--> 256\u001b[0;31m         \u001b[0m_add_attribute\u001b[0m\u001b[0;34m(\u001b[0m\u001b[0mnode\u001b[0m\u001b[0;34m,\u001b[0m \u001b[0mkey\u001b[0m\u001b[0;34m,\u001b[0m \u001b[0mvalue\u001b[0m\u001b[0;34m,\u001b[0m \u001b[0maten\u001b[0m\u001b[0;34m=\u001b[0m\u001b[0maten\u001b[0m\u001b[0;34m)\u001b[0m\u001b[0;34m\u001b[0m\u001b[0;34m\u001b[0m\u001b[0m\n\u001b[0m\u001b[1;32m    257\u001b[0m     \u001b[0;32mif\u001b[0m \u001b[0mshape_inference\u001b[0m\u001b[0;34m:\u001b[0m\u001b[0;34m\u001b[0m\u001b[0;34m\u001b[0m\u001b[0m\n\u001b[1;32m    258\u001b[0m         \u001b[0m_C\u001b[0m\u001b[0;34m.\u001b[0m\u001b[0m_jit_pass_onnx_node_shape_type_inference\u001b[0m\u001b[0;34m(\u001b[0m\u001b[0mnode\u001b[0m\u001b[0;34m,\u001b[0m \u001b[0mparams_dict\u001b[0m\u001b[0;34m,\u001b[0m \u001b[0mopset_version\u001b[0m\u001b[0;34m)\u001b[0m\u001b[0;34m\u001b[0m\u001b[0;34m\u001b[0m\u001b[0m\n",
      "\u001b[0;32m/opt/conda/envs/csciua-0480042-fall/lib/python3.7/site-packages/torch/onnx/_internal/jit_utils.py\u001b[0m in \u001b[0;36m_add_attribute\u001b[0;34m(node, key, value, aten)\u001b[0m\n\u001b[1;32m    307\u001b[0m             \u001b[0;32melse\u001b[0m\u001b[0;34m:\u001b[0m\u001b[0;34m\u001b[0m\u001b[0;34m\u001b[0m\u001b[0m\n\u001b[1;32m    308\u001b[0m                 \u001b[0mkind\u001b[0m \u001b[0;34m=\u001b[0m \u001b[0;34m\"i\"\u001b[0m\u001b[0;34m\u001b[0m\u001b[0;34m\u001b[0m\u001b[0m\n\u001b[0;32m--> 309\u001b[0;31m     \u001b[0;32mreturn\u001b[0m \u001b[0mgetattr\u001b[0m\u001b[0;34m(\u001b[0m\u001b[0mnode\u001b[0m\u001b[0;34m,\u001b[0m \u001b[0;34mf\"{kind}_\"\u001b[0m\u001b[0;34m)\u001b[0m\u001b[0;34m(\u001b[0m\u001b[0mname\u001b[0m\u001b[0;34m,\u001b[0m \u001b[0mvalue\u001b[0m\u001b[0;34m)\u001b[0m\u001b[0;34m\u001b[0m\u001b[0;34m\u001b[0m\u001b[0m\n\u001b[0m\u001b[1;32m    310\u001b[0m \u001b[0;34m\u001b[0m\u001b[0m\n\u001b[1;32m    311\u001b[0m \u001b[0;34m\u001b[0m\u001b[0m\n",
      "\u001b[0;31mRuntimeError\u001b[0m: !v.requires_grad() INTERNAL ASSERT FAILED at \"../torch/csrc/jit/python/python_ir.cpp\":723, please report a bug to PyTorch. "
     ]
    }
   ],
   "source": [
    "x = torch.randn(1, 3, 256, 256, requires_grad=True)\n",
    "model = ConvNet()\n",
    "output = model(x)\n",
    "torch.onnx.export(model, # model being run\n",
    "                  x,     # model input (or a tuple for multiple inputs)\n",
    "                  \"myconvnet.onnx\",\n",
    "                  do_constant_folding=True,\n",
    "                  dynamic_axes={'input' : {0 : 'batch_size'},'output' : {0 : 'batch_size'}}\n",
    "                 )\n"
   ]
  },
  {
   "cell_type": "markdown",
   "metadata": {},
   "source": [
    "Print model summary by running on a RGB 256x256 placeholder"
   ]
  },
  {
   "cell_type": "code",
   "execution_count": 36,
   "metadata": {},
   "outputs": [
    {
     "name": "stdout",
     "output_type": "stream",
     "text": [
      "----------------------------------------------------------------\n",
      "        Layer (type)               Output Shape         Param #\n",
      "================================================================\n",
      "            Conv2d-1         [-1, 64, 256, 256]           1,728\n",
      "            Conv2d-2        [-1, 128, 128, 128]          73,728\n",
      "            Conv2d-3          [-1, 256, 64, 64]         294,912\n",
      "            Conv2d-4          [-1, 512, 32, 32]       1,179,648\n",
      "            Conv2d-5         [-1, 1024, 16, 16]       4,718,592\n",
      "   ConvTranspose2d-6          [-1, 512, 16, 16]       2,097,664\n",
      "   ConvTranspose2d-7          [-1, 256, 32, 32]       1,048,832\n",
      "   ConvTranspose2d-8          [-1, 128, 64, 64]         262,272\n",
      "   ConvTranspose2d-9        [-1, 128, 128, 128]         131,200\n",
      "  ConvTranspose2d-10          [-1, 3, 256, 256]           1,539\n",
      "================================================================\n",
      "Total params: 9,810,115\n",
      "Trainable params: 9,810,115\n",
      "Non-trainable params: 0\n",
      "----------------------------------------------------------------\n",
      "Input size (MB): 0.75\n",
      "Forward/backward pass size (MB): 86.50\n",
      "Params size (MB): 37.42\n",
      "Estimated Total Size (MB): 124.67\n",
      "----------------------------------------------------------------\n",
      "None\n"
     ]
    }
   ],
   "source": [
    "model = ConvNet()\n",
    "print(summary(model, (3, 256, 256)))"
   ]
  },
  {
   "cell_type": "markdown",
   "metadata": {},
   "source": [
    "# 6. Synthesize face mask data from a dataset"
   ]
  },
  {
   "cell_type": "markdown",
   "metadata": {},
   "source": [
    "## Question 10 [25%]"
   ]
  },
  {
   "cell_type": "markdown",
   "metadata": {},
   "source": [
    "We now want to work with a face detection dataset (Widerface : http://shuoyang1213.me/WIDERFACE/) but as a face segmentation problem. The issue is that Widerface dataset does not have segmentation maps as annotations, only bounding box annotations. Your task is to synthesize the segmentation masks using the bounding box annotations.\n",
    "<br>\n",
    "The file `annotations.txt` located in the shared folder `../shared/data/HW2/wider_face/annotations.txt` has annotations for images located at `../shared/data/HW2/wider_face/images`, it is a subset of 6 images of WiderFace dataset. <br>\n",
    "The first task is to read the annotations file and generate a map with key being the file/image name and the values being the annotations for each image."
   ]
  },
  {
   "cell_type": "markdown",
   "metadata": {},
   "source": [
    "The structure/format of annotation.txt file is as follows :\n",
    "\n",
    "< image 1 > <br>\n",
    "< number of faces in image 1 = m_1 > <br>\n",
    "< face 1 > <br>\n",
    "< face 2 > <br>\n",
    "...<br>\n",
    "< face m_1 > <br>\n",
    ".<br>\n",
    ".<br>\n",
    ".<br>\n",
    "< image n > <br>\n",
    "< number of faces in image n = m_n > <br>\n",
    "< face 1 > <br>\n",
    "< face 2 > <br>\n",
    "...<br>\n",
    "< face m_n > <br>\n",
    "\n",
    "Each placeholder for a face in above format has 10 integers. We are only interested in the first four integers that specify the location of a face. The first 4 integers specify the location of a face in the image `(top_left_x, top_left_y, width_of_face, height_of_face)`"
   ]
  },
  {
   "cell_type": "code",
   "execution_count": null,
   "metadata": {},
   "outputs": [],
   "source": [
    "def get_annotations_map(annotation_file_path):\n",
    "    annotation_file = open(annotation_file_path)\n",
    "    image_annotations = {}\n",
    "\n",
    "    while True:\n",
    "        # TODO : Read first line to get image name\n",
    "        image_name_line = ...\n",
    "\n",
    "        # Terminate loop if there is nothing to read\n",
    "        if not image_name_line:\n",
    "            break\n",
    "\n",
    "        image_name = image_name_line.split()[0]\n",
    "\n",
    "        # TODO : Read next line and convert it to integer to get number of faces for current image\n",
    "        number_of_faces = ...\n",
    "\n",
    "        annotations = []\n",
    "\n",
    "        # Read <number_of_faces> lines from the file for each face and save in annotations list\n",
    "        for i in range(number_of_faces):\n",
    "            # TODO : Read line to get a face annotation for current image\n",
    "            annotation = ...\n",
    "\n",
    "            # TODO : split the annotation line into 10 separate values\n",
    "            top_left_x, top_left_y, width_of_face, height_of_face, _, _ ,_ , _, _ , _ = ...\n",
    "            annotations.append([int(top_left_x),\n",
    "                                int(top_left_y),\n",
    "                                int(width_of_face),\n",
    "                                int(height_of_face)\n",
    "                               ])\n",
    "\n",
    "        # TODO : Save the annotations per image in a dictionary\n",
    "        image_annotations[image_name] = ...\n",
    "    return image_annotations\n",
    "    "
   ]
  },
  {
   "cell_type": "markdown",
   "metadata": {},
   "source": [
    "Run below cell to visualize the images specified in the annotations.txt file."
   ]
  },
  {
   "cell_type": "code",
   "execution_count": null,
   "metadata": {},
   "outputs": [],
   "source": [
    "import matplotlib.pyplot as plt\n",
    "from PIL import Image\n",
    "\n",
    "plt.rcParams.update({'font.size': 5})\n",
    "annotation_file = \"../shared/data/HW2/wider_face/annotations.txt\"\n",
    "image_annotations = get_annotations_map(annotation_file)\n",
    "images = image_annotations.keys()\n",
    "fig, ax = plt.subplots(1,len(images), figsize=(15, 15))\n",
    "fig.tight_layout()\n",
    "\n",
    "col = 0\n",
    "for image in images:\n",
    "    img_path = \"../shared/data/HW2/wider_face/images/\" + str(image)\n",
    "    label = image\n",
    "    ax[col].imshow(Image.open(img_path))\n",
    "    ax[col].set_title(label)\n",
    "    ax[col].axis('off')\n",
    "    col = col + 1"
   ]
  },
  {
   "cell_type": "markdown",
   "metadata": {},
   "source": [
    "The next task is to generate a masked image for an input image. The masked image will have the faces highlighted as shown here in the image.<br><br> ![mask_image_sample.png](./mask_image_sample.png) <br>\n",
    "\n",
    "The function `is_outside_shape` takes in the shape of mask (`rectangle` or `circle` or `ellipse`), the center pixel location of face, width_of_face, height_of_face and a candidate mask pixel location(point). `is_outside_shape` should return true if a candidate mask pixel location(point) is outside the bounds of the input shape given the center, false otherwise.\n",
    "\n",
    "\n",
    "The function `datagen` takes in input file name , the annotations associated with it and the shape of the mask to be generated(for example for the above image the shape of the mask is a rectangle). <br> \n",
    "`datagen` function will generate a mask-highlighted image from the input and save it in your current directory. \n",
    "<br>\n",
    "<br>\n",
    "Read throught the comments and fill in the `TODO:` marked spaces to complete the definition of the functions. We use a flood fill(kind of DFS) approach with the seed being the center of the face to mark the mask pixels and then overlay the masks on the input image to produce the desired result."
   ]
  },
  {
   "cell_type": "code",
   "execution_count": null,
   "metadata": {},
   "outputs": [],
   "source": [
    "import cv2\n",
    "import math\n",
    "\n",
    "def is_outside_shape(shape, center, width, height, point):\n",
    "    # center location of face\n",
    "    cx,cy = center\n",
    "    \n",
    "    # candidate mask point\n",
    "    tx,ty = point\n",
    "    \n",
    "    if(shape == 'rectangle'):\n",
    "        # TODO : Write code to return true if point is outside the bounds of the rectangle centered at (cx,cy)\n",
    "        return ...\n",
    "\n",
    "    if(shape == 'circle'):\n",
    "        # TODO : Write code to return true if point is outside the bounds of the circle centered at (cx,cy)\n",
    "        return ...\n",
    "\n",
    "    if(shape == 'ellipse'):\n",
    "        # TODO : Write code to return true if point is outside the bounds of the ellipse centered at (cx,cy)\n",
    "        return ...\n",
    "    \n",
    "    return True\n",
    "      \n",
    "\n",
    "  \n",
    "    \n",
    "def datagen(img_file_name, annotations, mask_shape):\n",
    "    img = cv2.imread(img_file_name)\n",
    "    \n",
    "    # TODO : Create an empty mask image with same dimentions as the input image\n",
    "    label = np.zeros((...,...))\n",
    "    \n",
    "    for annotation in annotations:\n",
    "        # TODO : Get the location (top_left_x, top_left_y, width_of_face, height_of_face) of face\n",
    "        # from annotation in a single line - using unpacking in Python\n",
    "        ... = annotation\n",
    "        \n",
    "        # TODO : Compute the center point of the face - this will be the seed of the flood fill\n",
    "        cx,cy = ... , ...\n",
    "        \n",
    "        # We create a queue to take account of all candidate mask pixels(neighbours of a mask pixel) \n",
    "        # and initialize with the center point of face which we know for sure sould be a mask pixel\n",
    "        queue = [(cx, cy)]\n",
    "        \n",
    "        neighbors = [(0,1),(0,-1),(1,0),(-1,0)]\n",
    "        \n",
    "        while(queue):\n",
    "            # pop out a candidate mask pixel\n",
    "            tx, ty = queue.pop(0)\n",
    "            \n",
    "            # TODO : check if pixel is already marked or if it is outside the mask shape\n",
    "            if(label[ty,tx] or is_outside_shape(mask_shape, (...,...), ..., ..., (...,...))):\n",
    "                # No need to fill this value - because outside the bounds of the shape or its already been filled\n",
    "                continue \n",
    "                \n",
    "            # mark the pixel; we'll multiply the mask by 255 for visualization\n",
    "            label[ty,tx] = 1 \n",
    "            \n",
    "            # push to queue all the neighboring pixels of the candidate pixel (tx,ty)\n",
    "            for i,j in neighbors:\n",
    "                x = tx + i\n",
    "                y = ty + j\n",
    "                # check for ignoring out of bounds pixels\n",
    "                if(0<=x<img.shape[1] and 0<=y<img.shape[0]):\n",
    "                    queue.append((x,y))\n",
    "    \n",
    "    # Create a 3 channel image with same height and width as the input image\n",
    "    label_ = np.zeros((img.shape[0],img.shape[1],3),dtype= np.uint8)\n",
    "    \n",
    "    # Fill the 3 channel image with mask\n",
    "    label_[:,:,0] = label\n",
    "    label_[:,:,1] = label\n",
    "    label_[:,:,2] = label\n",
    "    \n",
    "    # Output file name for the masked image\n",
    "    output_image_path = \"./results/\" + img_file_name.split('/')[-1].split(\".\")[0] + \"_\" + mask_shape +\"_masked.jpg\"\n",
    "    \n",
    "    # Highlight the masked area of the image\n",
    "    dst = cv2.addWeighted(img[ :, :, ::-1 ],0.5,label_*255,0.7,0)\n",
    "    dst = cv2.cvtColor(dst, cv2.COLOR_BGR2RGB)\n",
    "    \n",
    "    # TODO : Write the highlighted output image(dst) at output_image_path\n",
    "    cv2.imwrite(..., ...)\n",
    "    \n",
    "    return output_image_path"
   ]
  },
  {
   "cell_type": "markdown",
   "metadata": {},
   "source": [
    "Run below cell to produce and visualize the masked images. For each input image the results will look similar to below image :\n",
    "![mask_sample_all_shapes.png](./mask_sample_all_shapes.png)\n",
    "\n",
    "(You don't have to change anything in the cell below. Just run it to get the results)"
   ]
  },
  {
   "cell_type": "code",
   "execution_count": null,
   "metadata": {},
   "outputs": [],
   "source": [
    "import matplotlib.image as mpimg\n",
    "import cv2\n",
    "import numpy as np\n",
    "import math\n",
    "from PIL import Image\n",
    "\n",
    "\n",
    "mask_shapes = ['rectangle', 'circle', 'ellipse']\n",
    "for image in image_annotations.keys():\n",
    "    image_name = \"../shared/data/HW2/wider_face/images/\" + image\n",
    "    img = mpimg.imread(image_name)\n",
    "    \n",
    "    fig, ax = plt.subplots(1,len(mask_shapes) + 1, figsize=(15, 15))\n",
    "    fig.tight_layout()\n",
    "    col = 0\n",
    "    label = \"Input Image\"\n",
    "    ax[col].imshow(img)\n",
    "    ax[col].set_title(label)\n",
    "    ax[col].axis('off')\n",
    "    col = col + 1\n",
    "    \n",
    "    for shape in mask_shapes :\n",
    "        output_image = datagen(image_name,image_annotations[image], shape)\n",
    "        img = mpimg.imread(output_image)\n",
    "        ax[col].imshow(img)\n",
    "        ax[col].set_title(shape)\n",
    "        ax[col].axis('off')\n",
    "        col = col + 1\n",
    "        "
   ]
  },
  {
   "cell_type": "code",
   "execution_count": null,
   "metadata": {},
   "outputs": [],
   "source": []
  }
 ],
 "metadata": {
  "kernelspec": {
   "display_name": "Python [conda env:csciua-0480042-fall]",
   "language": "python",
   "name": "conda-env-csciua-0480042-fall-py"
  },
  "language_info": {
   "codemirror_mode": {
    "name": "ipython",
    "version": 3
   },
   "file_extension": ".py",
   "mimetype": "text/x-python",
   "name": "python",
   "nbconvert_exporter": "python",
   "pygments_lexer": "ipython3",
   "version": "3.7.12"
  }
 },
 "nbformat": 4,
 "nbformat_minor": 4
}
